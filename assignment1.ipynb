{
 "cells": [
  {
   "cell_type": "code",
   "execution_count": 1,
   "id": "f764f241",
   "metadata": {},
   "outputs": [],
   "source": [
    "#Who developed the python programming language?\n",
    "#Python programming language was developed by Guido Van Rossom"
   ]
  },
  {
   "cell_type": "code",
   "execution_count": 2,
   "id": "9427efe7",
   "metadata": {},
   "outputs": [],
   "source": [
    "#Which type of programming does python support?\n",
    "#Python is a multi-paradigm programming language. \n",
    "#It supports Object-oriented programming and structured programming. \n",
    "#Additionally,many of their their features support functional programming and aspect-oriented programming (including metaprogramming and metaobjects)."
   ]
  },
  {
   "cell_type": "code",
   "execution_count": 3,
   "id": "bc1f7d18",
   "metadata": {},
   "outputs": [],
   "source": [
    "#Is Python case sensitive whe dealing with identifiers?\n",
    "#Yes, Python is case sensitive while dealing with identifiers. It treats characters in uppercase and lowercase differently."
   ]
  },
  {
   "cell_type": "code",
   "execution_count": 4,
   "id": "bd9914cd",
   "metadata": {},
   "outputs": [],
   "source": [
    "#What is the correct extension of python file?\n",
    "#The correct extension of python file is .py extension"
   ]
  },
  {
   "cell_type": "code",
   "execution_count": 5,
   "id": "42f788aa",
   "metadata": {},
   "outputs": [],
   "source": [
    "#Is python code compiled or interpreted?\n",
    "#Python code is interpreted."
   ]
  },
  {
   "cell_type": "code",
   "execution_count": 11,
   "id": "855d8170",
   "metadata": {},
   "outputs": [],
   "source": [
    "# Name a few blocks of code used to define python language?\n",
    "# A Python program is constructed from code blocks. A block is a piece of Python program text that is executed as a unit. \n",
    "# The following are blocks: a module, a function body, and a class definition."
   ]
  },
  {
   "cell_type": "code",
   "execution_count": 6,
   "id": "3a8c88d0",
   "metadata": {},
   "outputs": [],
   "source": [
    "# State a character used to give single line comment in python?\n",
    "# '#' is used to give single line comment in python"
   ]
  },
  {
   "cell_type": "code",
   "execution_count": 1,
   "id": "bbd0b28c",
   "metadata": {},
   "outputs": [],
   "source": [
    "#Mention functions that help us to find the version of python we are currently working on??\n",
    "# The methods used to get the current version of python interpreter are:\n",
    "# 1. sys.version method\n",
    "# 2. python_version() function\n",
    "# 3. Python -V command"
   ]
  },
  {
   "cell_type": "code",
   "execution_count": 2,
   "id": "243ff48e",
   "metadata": {},
   "outputs": [],
   "source": [
    "# Python supports the creation of anonymous functions at runtime using a construct called : \n",
    "#lambda"
   ]
  },
  {
   "cell_type": "code",
   "execution_count": 3,
   "id": "12c6c9a6",
   "metadata": {},
   "outputs": [],
   "source": [
    "# 10) What does pip stand for python?\n",
    "#pip in python stands for \"Preferred Installer Program\" and is a  package management system to install and manage software packages written in Python and found in Python Package Index (PyPI)."
   ]
  },
  {
   "cell_type": "code",
   "execution_count": 4,
   "id": "91688591",
   "metadata": {},
   "outputs": [],
   "source": [
    "#  Mention a few built-in functions in python?\n",
    "#abs()\t       Returns the absolute value of a number\n",
    "#all()\t       Returns True if all items in an iterable object are true\n",
    "#any()\t       Returns True if any item in an iterable object is true\n",
    "#ascii()\t       Returns a readable version of an object. Replaces none-ascii characters with escape character\n",
    "#bin()\t       Returns the binary version of a number\n",
    "#bool()\t       Returns the boolean value of the specified object\n"
   ]
  },
  {
   "cell_type": "code",
   "execution_count": 5,
   "id": "bc9cd552",
   "metadata": {},
   "outputs": [],
   "source": [
    "#  What is the maximum possible length of an identifier in Python?\n",
    "# The maximum possible length of an identifier in Python is 79 characters"
   ]
  },
  {
   "cell_type": "code",
   "execution_count": 7,
   "id": "6fe4f639",
   "metadata": {},
   "outputs": [],
   "source": [
    "# q13) What are the benefits of using Python?\n",
    "\n",
    "# 1. Presence of third-party modules \n",
    "\n",
    "# 2. Extensive support libraries(NumPy for numerical calculations, Pandas for data analytics, etc.)\n",
    "\n",
    "# 3. Open source and large active community base \n",
    "\n",
    "# 4.Versatile, Easy to read, learn and write\n",
    "\n",
    "# 5.User-friendly data structures\n",
    "\n",
    "# 6.High-level language \n",
    "\n",
    "# 7.Dynamically typed language(No need to mention data type based on the value assigned, it takes data type) \n",
    "\n",
    "# 8. Object-Oriented and Procedural  Programming language\n",
    "\n",
    "# 9.Portable and Interactive\n",
    "\n",
    "# 10. Ideal for prototypes – provide more functionality with less coding\n",
    "\n",
    "# 11. Highly Efficient(Python’s clean object-oriented design provides enhanced process control, and the language is equipped with excellent text processing and integration capabilities, as well as its own unit testing framework, which makes it more efficient.)\n",
    "\n",
    "# 12.Internet of Things(IoT) Opportunities\n",
    "\n",
    "# 13.Interpreted Language\n",
    "\n",
    "# 14.Portable across Operating systems"
   ]
  },
  {
   "cell_type": "code",
   "execution_count": 8,
   "id": "2df6bdc7",
   "metadata": {},
   "outputs": [],
   "source": [
    "#  How is memory managed in Python?\n",
    "\n",
    "#Memory management in Python involves a private heap containing all Python objects and data structures.\n",
    "#The management of this private heap is ensured internally by the Python memory manager."
   ]
  },
  {
   "cell_type": "code",
   "execution_count": 9,
   "id": "22c50495",
   "metadata": {},
   "outputs": [],
   "source": [
    "# How to install Python on Windows and set path variables\n",
    "\n",
    "#Steps to install Python on Windows\n",
    "#Step 1: Select Version of Python to Install.\n",
    "#Step 2: Download Python Executable Installer.\n",
    "#Step 3: Run Executable Installer.\n",
    "#Step 4: Verify Python Was Installed On Windows.\n",
    "#Step 5: Verify Pip Was Installed.\n",
    "#Step 6: Add Python Path to Environment Variables (Optional)\n",
    "#Step 7: Install virtualnv (Optional)\n",
    "\n",
    "#The complete path of python.exe can be added by:\n",
    "#1)Right-clicking This PC and going to Properties.\n",
    "#2)Clicking on the Advanced system settings in the menu on the left.\n",
    "#3)Clicking on the Environment Variables button o​n the bottom right.\n",
    "#4)In the System variables section, selecting the Path variable and clicking on Edit. The next screen will show all the directories that are currently #a part of the PATH variable.\n",
    "#5)Clicking on New and entering Python’s install directory.\n",
    "\n",
    "#Python can now be used directly from the command prompt without having to write its location. Try executing the command python --version; it will #output the version of Python installed on your system.\n"
   ]
  },
  {
   "cell_type": "code",
   "execution_count": 10,
   "id": "91cfe215",
   "metadata": {},
   "outputs": [],
   "source": [
    "# q16) Is indentation required in python?\n",
    "\n",
    "# Yes , identation is absolutely necessary in Python."
   ]
  },
  {
   "cell_type": "code",
   "execution_count": null,
   "id": "001e206c",
   "metadata": {},
   "outputs": [],
   "source": []
  }
 ],
 "metadata": {
  "kernelspec": {
   "display_name": "Python 3",
   "language": "python",
   "name": "python3"
  },
  "language_info": {
   "codemirror_mode": {
    "name": "ipython",
    "version": 3
   },
   "file_extension": ".py",
   "mimetype": "text/x-python",
   "name": "python",
   "nbconvert_exporter": "python",
   "pygments_lexer": "ipython3",
   "version": "3.8.8"
  }
 },
 "nbformat": 4,
 "nbformat_minor": 5
}
